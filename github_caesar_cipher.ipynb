{
  "nbformat": 4,
  "nbformat_minor": 0,
  "metadata": {
    "colab": {
      "provenance": []
    },
    "kernelspec": {
      "name": "python3",
      "display_name": "Python 3"
    },
    "language_info": {
      "name": "python"
    }
  },
  "cells": [
    {
      "cell_type": "code",
      "execution_count": 4,
      "metadata": {
        "id": "8p25sZoenG6T"
      },
      "outputs": [],
      "source": [
        "# Caesar Cipher - Enkripsi dan Dekripsi\n",
        "\n",
        "def caesar_encrypt(text, shift):\n",
        "    result = \"\"\n",
        "    for char in text:\n",
        "        if char.isalpha():\n",
        "            base = ord('A') if char.isupper() else ord('a')\n",
        "            result += chr((ord(char) - base + shift) % 26 + base)\n",
        "        else:\n",
        "            result += char\n",
        "    return result\n",
        "\n",
        "def caesar_decrypt(text, shift):\n",
        "    return caesar_encrypt(text, -shift)\n"
      ]
    },
    {
      "cell_type": "code",
      "source": [
        "text = \"Halo Dunia\"\n",
        "encrypted = caesar_encrypt(text, 3)\n",
        "decrypted = caesar_decrypt(encrypted, 3)\n",
        "\n",
        "print(\"Teks asli     :\", text)\n",
        "print(\"Terenkripsi   :\", encrypted)\n",
        "print(\"Terdekripsi   :\", decrypted)"
      ],
      "metadata": {
        "colab": {
          "base_uri": "https://localhost:8080/"
        },
        "id": "V1i1jlXunPBj",
        "outputId": "73e14fe2-87e1-44d8-9d82-a101fc20e455"
      },
      "execution_count": 3,
      "outputs": [
        {
          "output_type": "stream",
          "name": "stdout",
          "text": [
            "Teks asli     : Halo Dunia\n",
            "Terenkripsi   : Kdor Gxqld\n",
            "Terdekripsi   : Halo Dunia\n"
          ]
        }
      ]
    }
  ]
}